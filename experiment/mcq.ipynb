{
 "cells": [
  {
   "cell_type": "code",
   "execution_count": 57,
   "id": "9217d69e",
   "metadata": {},
   "outputs": [],
   "source": [
    "import os\n",
    "import json\n",
    "import pandas as pd\n",
    "import traceback"
   ]
  },
  {
   "cell_type": "code",
   "execution_count": 58,
   "id": "82d32e27",
   "metadata": {},
   "outputs": [],
   "source": [
    "from langchain_google_genai import ChatGoogleGenerativeAI"
   ]
  },
  {
   "cell_type": "code",
   "execution_count": 59,
   "id": "26276990",
   "metadata": {},
   "outputs": [
    {
     "data": {
      "text/plain": [
       "True"
      ]
     },
     "execution_count": 59,
     "metadata": {},
     "output_type": "execute_result"
    }
   ],
   "source": [
    "from dotenv import load_dotenv\n",
    "load_dotenv()"
   ]
  },
  {
   "cell_type": "code",
   "execution_count": 60,
   "id": "34f56e3c",
   "metadata": {},
   "outputs": [],
   "source": [
    "key=os.getenv(\"GOOGLE_API_KEY\")"
   ]
  },
  {
   "cell_type": "code",
   "execution_count": 61,
   "id": "3c46a80a",
   "metadata": {},
   "outputs": [],
   "source": [
    "llm = ChatGoogleGenerativeAI(\n",
    "    model=\"gemini-2.0-flash\",\n",
    "    api_key=key,\n",
    "    temperature=0.2,\n",
    ")"
   ]
  },
  {
   "cell_type": "code",
   "execution_count": 62,
   "id": "5ecd9c2a",
   "metadata": {},
   "outputs": [],
   "source": [
    "\n",
    "from langchain.prompts import PromptTemplate\n",
    "from langchain.chains import LLMChain\n",
    "from langchain.chains import SequentialChain\n",
    "import PyPDF2\n"
   ]
  },
  {
   "cell_type": "code",
   "execution_count": 63,
   "id": "4553ab7d",
   "metadata": {},
   "outputs": [],
   "source": [
    "\n",
    "RESPONSE_JSON = {\n",
    "    \"1\": {\n",
    "        \"mcq\": \"multiple choice question\",\n",
    "        \"options\": {\n",
    "            \"a\": \"choice here\",\n",
    "            \"b\": \"choice here\",\n",
    "            \"c\": \"choice here\",\n",
    "            \"d\": \"choice here\",\n",
    "        },\n",
    "        \"correct\": \"correct answer\",\n",
    "    },\n",
    "    \"2\": {\n",
    "        \"mcq\": \"multiple choice question\",\n",
    "        \"options\": {\n",
    "            \"a\": \"choice here\",\n",
    "            \"b\": \"choice here\",\n",
    "            \"c\": \"choice here\",\n",
    "            \"d\": \"choice here\",\n",
    "        },\n",
    "        \"correct\": \"correct answer\",\n",
    "    },\n",
    "    \"3\": {\n",
    "        \"mcq\": \"multiple choice question\",\n",
    "        \"options\": {\n",
    "            \"a\": \"choice here\",\n",
    "            \"b\": \"choice here\",\n",
    "            \"c\": \"choice here\",\n",
    "            \"d\": \"choice here\",\n",
    "        },\n",
    "        \"correct\": \"correct answer\",\n",
    "    },\n",
    "}"
   ]
  },
  {
   "cell_type": "code",
   "execution_count": 64,
   "id": "1c4501c0",
   "metadata": {},
   "outputs": [],
   "source": [
    "TEMPLATE=\"\"\"\n",
    "Text:{text}\n",
    "You are an expert MCQ maker. Given the above text, it is your job to \\\n",
    "create a quiz  of {number} multiple choice questions for {subject} students in {tone} tone. \n",
    "Make sure the questions are not repeated and check all the questions to be conforming the text as well.\n",
    "Make sure to format your response like  RESPONSE_JSON below  and use it as a guide. \\\n",
    "Ensure to make {number} MCQs\n",
    "### RESPONSE_JSON\n",
    "{response_json}\n",
    "\n",
    "\"\"\""
   ]
  },
  {
   "cell_type": "code",
   "execution_count": 65,
   "id": "8276ad0f",
   "metadata": {},
   "outputs": [],
   "source": [
    "quiz_generation_prompt = PromptTemplate(\n",
    "    input_variables = [\"text\",\"number\" ,\"subject\", \"tone\", \"response_json\"],\n",
    "    template=TEMPLATE\n",
    ")"
   ]
  },
  {
   "cell_type": "code",
   "execution_count": 66,
   "id": "c5c18c59",
   "metadata": {},
   "outputs": [],
   "source": [
    "quiz_chain = LLMChain(llm=llm, prompt=quiz_generation_prompt, output_key=\"quiz\" , verbose=True) "
   ]
  },
  {
   "cell_type": "code",
   "execution_count": 67,
   "id": "2ac22c90",
   "metadata": {},
   "outputs": [],
   "source": [
    "TEMPLATE2=\"\"\"\n",
    "You are an expert english grammarian and writer. Given a Multiple Choice Quiz for {subject} students.\\\n",
    "You need to evaluate the complexity of the question and give a complete analysis of the quiz. Only use at max 50 words for complexity analysis. \n",
    "if the quiz is not at per with the cognitive and analytical abilities of the students,\\\n",
    "update the quiz questions which needs to be changed and change the tone such that it perfectly fits the student abilities\n",
    "Quiz_MCQs:\n",
    "{quiz}\n",
    "\n",
    "Check from an expert English Writer of the above quiz:\n",
    "\"\"\""
   ]
  },
  {
   "cell_type": "code",
   "execution_count": 68,
   "id": "c69ed5c7",
   "metadata": {},
   "outputs": [],
   "source": [
    "quiz_evaluation_prompt=PromptTemplate(input_variables=[\"subject\", \"quiz\"], template=TEMPLATE)"
   ]
  },
  {
   "cell_type": "code",
   "execution_count": 69,
   "id": "54ccfe83",
   "metadata": {},
   "outputs": [],
   "source": [
    "review_chain = LLMChain(llm=llm, prompt=quiz_evaluation_prompt, output_key=\"review\", verbose=True)"
   ]
  },
  {
   "cell_type": "code",
   "execution_count": 70,
   "id": "ec3cee2d",
   "metadata": {},
   "outputs": [],
   "source": [
    "generate_evaluate_chain = SequentialChain(chains=[quiz_chain, review_chain], input_variables=[\"text\",\"number\",\"subject\",\"tone\",\"response_json\"], output_variables=[\"quiz\",\"review\"],verbose=True,)"
   ]
  },
  {
   "cell_type": "code",
   "execution_count": 71,
   "id": "08d4fa27",
   "metadata": {},
   "outputs": [],
   "source": [
    "file_path =r\"D:\\Users\\Lenovo\\Downloads\\mcqgen\\data.txt\""
   ]
  },
  {
   "cell_type": "code",
   "execution_count": 72,
   "id": "4cb695cb",
   "metadata": {},
   "outputs": [
    {
     "data": {
      "text/plain": [
       "'D:\\\\Users\\\\Lenovo\\\\Downloads\\\\mcqgen\\\\data.txt'"
      ]
     },
     "execution_count": 72,
     "metadata": {},
     "output_type": "execute_result"
    }
   ],
   "source": [
    "file_path"
   ]
  },
  {
   "cell_type": "code",
   "execution_count": 73,
   "id": "79117813",
   "metadata": {},
   "outputs": [],
   "source": [
    "with open(file_path, 'r') as file:\n",
    "    TEXT = file.read()"
   ]
  },
  {
   "cell_type": "code",
   "execution_count": 74,
   "id": "26fc1e73",
   "metadata": {},
   "outputs": [
    {
     "name": "stdout",
     "output_type": "stream",
     "text": [
      "The procedure (using counting rods) for solving simultaneous linear equations now called Gaussian elimination appears in the ancient Chinese mathematical text Chapter Eight: Rectangular Arrays of The Nine Chapters on the Mathematical Art. Its use is illustrated in eighteen problems, with two to five equations.[4]\n",
      "\n",
      "Systems of linear equations arose in Europe with the introduction in 1637 by René Descartes of coordinates in geometry. In fact, in this new geometry, now called Cartesian geometry, lines and planes are represented by linear equations, and computing their intersections amounts to solving systems of linear equations.\n",
      "\n",
      "The first systematic methods for solving linear systems used determinants and were first considered by Leibniz in 1693. In 1750, Gabriel Cramer used them for giving explicit solutions of linear systems, now called Cramer's rule. Later, Gauss further described the method of elimination, which was initially listed as an advancement in geodesy.[5]\n",
      "\n",
      "In 1844 Hermann Grassmann published his \"Theory of Extension\" which included foundational new topics of what is today called linear algebra. In 1848, James Joseph Sylvester introduced the term matrix, which is Latin for womb.\n",
      "\n",
      "Linear algebra grew with ideas noted in the complex plane. For instance, two numbers w and z in \n",
      "C\n",
      "{\\displaystyle \\mathbb {C} } have a difference w – z, and the line segments wz and 0(w − z) are of the same length and direction. The segments are equipollent. The four-dimensional system \n",
      "H\n",
      "{\\displaystyle \\mathbb {H} } of quaternions was discovered by W.R. Hamilton in 1843.[6] The term vector was introduced as v = xi + yj + zk representing a point in space. The quaternion difference p – q also produces a segment equipollent to pq. Other hypercomplex number systems also used the idea of a linear space with a basis.\n",
      "\n",
      "Arthur Cayley introduced matrix multiplication and the inverse matrix in 1856, making possible the general linear group. The mechanism of group representation became available for describing complex and hypercomplex numbers. Crucially, Cayley used a single letter to denote a matrix, thus treating a matrix as an aggregate object. He also realized the connection between matrices and determinants and wrote \"There would be many things to say about this theory of matrices which should, it seems to me, precede the theory of determinants\".[5]\n",
      "\n",
      "Benjamin Peirce published his Linear Associative Algebra (1872), and his son Charles Sanders Peirce extended the work later.[7]\n",
      "\n",
      "The telegraph required an explanatory system, and the 1873 publication by James Clerk Maxwell of A Treatise on Electricity and Magnetism instituted a field theory of forces and required differential geometry for expression. Linear algebra is flat differential geometry and serves in tangent spaces to manifolds. Electromagnetic symmetries of spacetime are expressed by the Lorentz transformations, and much of the history of linear algebra is the history of Lorentz transformations.\n",
      "\n",
      "The first modern and more precise definition of a vector space was introduced by Peano in 1888;[5] by 1900, a theory of linear transformations of finite-dimensional vector spaces had emerged. Linear algebra took its modern form in the first half of the twentieth century when many ideas and methods of previous centuries were generalized as abstract algebra. The development of computers led to increased research in efficient algorithms for Gaussian elimination and matrix decompositions, and linear algebra became an essential tool for modeling and simulations.[5]\n"
     ]
    }
   ],
   "source": [
    "print(TEXT)"
   ]
  },
  {
   "cell_type": "code",
   "execution_count": 75,
   "id": "13b28102",
   "metadata": {},
   "outputs": [
    {
     "data": {
      "text/plain": [
       "'{\"1\": {\"mcq\": \"multiple choice question\", \"options\": {\"a\": \"choice here\", \"b\": \"choice here\", \"c\": \"choice here\", \"d\": \"choice here\"}, \"correct\": \"correct answer\"}, \"2\": {\"mcq\": \"multiple choice question\", \"options\": {\"a\": \"choice here\", \"b\": \"choice here\", \"c\": \"choice here\", \"d\": \"choice here\"}, \"correct\": \"correct answer\"}, \"3\": {\"mcq\": \"multiple choice question\", \"options\": {\"a\": \"choice here\", \"b\": \"choice here\", \"c\": \"choice here\", \"d\": \"choice here\"}, \"correct\": \"correct answer\"}}'"
      ]
     },
     "execution_count": 75,
     "metadata": {},
     "output_type": "execute_result"
    }
   ],
   "source": [
    "json.dumps(RESPONSE_JSON)"
   ]
  },
  {
   "cell_type": "code",
   "execution_count": 76,
   "id": "97480f9f",
   "metadata": {},
   "outputs": [],
   "source": [
    "NUMBER = 5\n",
    "SUBJECT = \"MACHINE LEARNING\"\n",
    "TONE = \"simple\""
   ]
  },
  {
   "cell_type": "code",
   "execution_count": 77,
   "id": "1dbadccc",
   "metadata": {},
   "outputs": [
    {
     "name": "stdout",
     "output_type": "stream",
     "text": [
      "\n",
      "\n",
      "\u001b[1m> Entering new SequentialChain chain...\u001b[0m\n",
      "\n",
      "\n",
      "\u001b[1m> Entering new LLMChain chain...\u001b[0m\n",
      "Prompt after formatting:\n",
      "\u001b[32;1m\u001b[1;3m\n",
      "Text:The procedure (using counting rods) for solving simultaneous linear equations now called Gaussian elimination appears in the ancient Chinese mathematical text Chapter Eight: Rectangular Arrays of The Nine Chapters on the Mathematical Art. Its use is illustrated in eighteen problems, with two to five equations.[4]\n",
      "\n",
      "Systems of linear equations arose in Europe with the introduction in 1637 by René Descartes of coordinates in geometry. In fact, in this new geometry, now called Cartesian geometry, lines and planes are represented by linear equations, and computing their intersections amounts to solving systems of linear equations.\n",
      "\n",
      "The first systematic methods for solving linear systems used determinants and were first considered by Leibniz in 1693. In 1750, Gabriel Cramer used them for giving explicit solutions of linear systems, now called Cramer's rule. Later, Gauss further described the method of elimination, which was initially listed as an advancement in geodesy.[5]\n",
      "\n",
      "In 1844 Hermann Grassmann published his \"Theory of Extension\" which included foundational new topics of what is today called linear algebra. In 1848, James Joseph Sylvester introduced the term matrix, which is Latin for womb.\n",
      "\n",
      "Linear algebra grew with ideas noted in the complex plane. For instance, two numbers w and z in \n",
      "C\n",
      "{\\displaystyle \\mathbb {C} } have a difference w – z, and the line segments wz and 0(w − z) are of the same length and direction. The segments are equipollent. The four-dimensional system \n",
      "H\n",
      "{\\displaystyle \\mathbb {H} } of quaternions was discovered by W.R. Hamilton in 1843.[6] The term vector was introduced as v = xi + yj + zk representing a point in space. The quaternion difference p – q also produces a segment equipollent to pq. Other hypercomplex number systems also used the idea of a linear space with a basis.\n",
      "\n",
      "Arthur Cayley introduced matrix multiplication and the inverse matrix in 1856, making possible the general linear group. The mechanism of group representation became available for describing complex and hypercomplex numbers. Crucially, Cayley used a single letter to denote a matrix, thus treating a matrix as an aggregate object. He also realized the connection between matrices and determinants and wrote \"There would be many things to say about this theory of matrices which should, it seems to me, precede the theory of determinants\".[5]\n",
      "\n",
      "Benjamin Peirce published his Linear Associative Algebra (1872), and his son Charles Sanders Peirce extended the work later.[7]\n",
      "\n",
      "The telegraph required an explanatory system, and the 1873 publication by James Clerk Maxwell of A Treatise on Electricity and Magnetism instituted a field theory of forces and required differential geometry for expression. Linear algebra is flat differential geometry and serves in tangent spaces to manifolds. Electromagnetic symmetries of spacetime are expressed by the Lorentz transformations, and much of the history of linear algebra is the history of Lorentz transformations.\n",
      "\n",
      "The first modern and more precise definition of a vector space was introduced by Peano in 1888;[5] by 1900, a theory of linear transformations of finite-dimensional vector spaces had emerged. Linear algebra took its modern form in the first half of the twentieth century when many ideas and methods of previous centuries were generalized as abstract algebra. The development of computers led to increased research in efficient algorithms for Gaussian elimination and matrix decompositions, and linear algebra became an essential tool for modeling and simulations.[5]\n",
      "You are an expert MCQ maker. Given the above text, it is your job to create a quiz  of 5 multiple choice questions for MACHINE LEARNING students in simple tone. \n",
      "Make sure the questions are not repeated and check all the questions to be conforming the text as well.\n",
      "Make sure to format your response like  RESPONSE_JSON below  and use it as a guide. Ensure to make 5 MCQs\n",
      "### RESPONSE_JSON\n",
      "{\"1\": {\"mcq\": \"multiple choice question\", \"options\": {\"a\": \"choice here\", \"b\": \"choice here\", \"c\": \"choice here\", \"d\": \"choice here\"}, \"correct\": \"correct answer\"}, \"2\": {\"mcq\": \"multiple choice question\", \"options\": {\"a\": \"choice here\", \"b\": \"choice here\", \"c\": \"choice here\", \"d\": \"choice here\"}, \"correct\": \"correct answer\"}, \"3\": {\"mcq\": \"multiple choice question\", \"options\": {\"a\": \"choice here\", \"b\": \"choice here\", \"c\": \"choice here\", \"d\": \"choice here\"}, \"correct\": \"correct answer\"}}\n",
      "\n",
      "\u001b[0m\n",
      "\n",
      "\u001b[1m> Finished chain.\u001b[0m\n",
      "\n",
      "\n",
      "\u001b[1m> Entering new LLMChain chain...\u001b[0m\n",
      "Prompt after formatting:\n",
      "\u001b[32;1m\u001b[1;3m\n",
      "Text:The procedure (using counting rods) for solving simultaneous linear equations now called Gaussian elimination appears in the ancient Chinese mathematical text Chapter Eight: Rectangular Arrays of The Nine Chapters on the Mathematical Art. Its use is illustrated in eighteen problems, with two to five equations.[4]\n",
      "\n",
      "Systems of linear equations arose in Europe with the introduction in 1637 by René Descartes of coordinates in geometry. In fact, in this new geometry, now called Cartesian geometry, lines and planes are represented by linear equations, and computing their intersections amounts to solving systems of linear equations.\n",
      "\n",
      "The first systematic methods for solving linear systems used determinants and were first considered by Leibniz in 1693. In 1750, Gabriel Cramer used them for giving explicit solutions of linear systems, now called Cramer's rule. Later, Gauss further described the method of elimination, which was initially listed as an advancement in geodesy.[5]\n",
      "\n",
      "In 1844 Hermann Grassmann published his \"Theory of Extension\" which included foundational new topics of what is today called linear algebra. In 1848, James Joseph Sylvester introduced the term matrix, which is Latin for womb.\n",
      "\n",
      "Linear algebra grew with ideas noted in the complex plane. For instance, two numbers w and z in \n",
      "C\n",
      "{\\displaystyle \\mathbb {C} } have a difference w – z, and the line segments wz and 0(w − z) are of the same length and direction. The segments are equipollent. The four-dimensional system \n",
      "H\n",
      "{\\displaystyle \\mathbb {H} } of quaternions was discovered by W.R. Hamilton in 1843.[6] The term vector was introduced as v = xi + yj + zk representing a point in space. The quaternion difference p – q also produces a segment equipollent to pq. Other hypercomplex number systems also used the idea of a linear space with a basis.\n",
      "\n",
      "Arthur Cayley introduced matrix multiplication and the inverse matrix in 1856, making possible the general linear group. The mechanism of group representation became available for describing complex and hypercomplex numbers. Crucially, Cayley used a single letter to denote a matrix, thus treating a matrix as an aggregate object. He also realized the connection between matrices and determinants and wrote \"There would be many things to say about this theory of matrices which should, it seems to me, precede the theory of determinants\".[5]\n",
      "\n",
      "Benjamin Peirce published his Linear Associative Algebra (1872), and his son Charles Sanders Peirce extended the work later.[7]\n",
      "\n",
      "The telegraph required an explanatory system, and the 1873 publication by James Clerk Maxwell of A Treatise on Electricity and Magnetism instituted a field theory of forces and required differential geometry for expression. Linear algebra is flat differential geometry and serves in tangent spaces to manifolds. Electromagnetic symmetries of spacetime are expressed by the Lorentz transformations, and much of the history of linear algebra is the history of Lorentz transformations.\n",
      "\n",
      "The first modern and more precise definition of a vector space was introduced by Peano in 1888;[5] by 1900, a theory of linear transformations of finite-dimensional vector spaces had emerged. Linear algebra took its modern form in the first half of the twentieth century when many ideas and methods of previous centuries were generalized as abstract algebra. The development of computers led to increased research in efficient algorithms for Gaussian elimination and matrix decompositions, and linear algebra became an essential tool for modeling and simulations.[5]\n",
      "You are an expert MCQ maker. Given the above text, it is your job to create a quiz  of 5 multiple choice questions for MACHINE LEARNING students in simple tone. \n",
      "Make sure the questions are not repeated and check all the questions to be conforming the text as well.\n",
      "Make sure to format your response like  RESPONSE_JSON below  and use it as a guide. Ensure to make 5 MCQs\n",
      "### RESPONSE_JSON\n",
      "{\"1\": {\"mcq\": \"multiple choice question\", \"options\": {\"a\": \"choice here\", \"b\": \"choice here\", \"c\": \"choice here\", \"d\": \"choice here\"}, \"correct\": \"correct answer\"}, \"2\": {\"mcq\": \"multiple choice question\", \"options\": {\"a\": \"choice here\", \"b\": \"choice here\", \"c\": \"choice here\", \"d\": \"choice here\"}, \"correct\": \"correct answer\"}, \"3\": {\"mcq\": \"multiple choice question\", \"options\": {\"a\": \"choice here\", \"b\": \"choice here\", \"c\": \"choice here\", \"d\": \"choice here\"}, \"correct\": \"correct answer\"}}\n",
      "\n",
      "\u001b[0m\n",
      "\n",
      "\u001b[1m> Finished chain.\u001b[0m\n",
      "\n",
      "\u001b[1m> Finished chain.\u001b[0m\n"
     ]
    }
   ],
   "source": [
    "from langchain.callbacks import StdOutCallbackHandler\n",
    "\n",
    "handler = StdOutCallbackHandler()\n",
    "\n",
    "response = generate_evaluate_chain({\n",
    "    \"text\": TEXT,\n",
    "    \"number\": NUMBER,\n",
    "    \"subject\": SUBJECT,\n",
    "    \"tone\": TONE,\n",
    "    \"response_json\": json.dumps(RESPONSE_JSON),\n",
    "} , callbacks=[handler]) "
   ]
  },
  {
   "cell_type": "code",
   "execution_count": 78,
   "id": "7e23fc54",
   "metadata": {},
   "outputs": [
    {
     "name": "stdout",
     "output_type": "stream",
     "text": [
      "Input Tokens (estimate): 1079\n",
      "Output Tokens (estimate): 899\n",
      "Total Tokens (estimate): 1978\n"
     ]
    }
   ],
   "source": [
    "import tiktoken\n",
    "\n",
    "def estimate_tokens(text):\n",
    "    encoding = tiktoken.get_encoding(\"cl100k_base\")\n",
    "    return len(encoding.encode(text))\n",
    "\n",
    "input_text = TEXT + json.dumps(RESPONSE_JSON) + TEMPLATE + TEMPLATE2\n",
    "output_text = response[\"quiz\"] + response[\"review\"]\n",
    "total_tokens = estimate_tokens(input_text) + estimate_tokens(output_text)\n",
    "\n",
    "print(f\"Input Tokens (estimate): {estimate_tokens(input_text)}\")\n",
    "print(f\"Output Tokens (estimate): {estimate_tokens(output_text)}\")\n",
    "print(f\"Total Tokens (estimate): {total_tokens}\")\n"
   ]
  },
  {
   "cell_type": "code",
   "execution_count": 79,
   "id": "d2b19da4",
   "metadata": {},
   "outputs": [
    {
     "data": {
      "text/plain": [
       "{'text': 'The procedure (using counting rods) for solving simultaneous linear equations now called Gaussian elimination appears in the ancient Chinese mathematical text Chapter Eight: Rectangular Arrays of The Nine Chapters on the Mathematical Art. Its use is illustrated in eighteen problems, with two to five equations.[4]\\n\\nSystems of linear equations arose in Europe with the introduction in 1637 by René Descartes of coordinates in geometry. In fact, in this new geometry, now called Cartesian geometry, lines and planes are represented by linear equations, and computing their intersections amounts to solving systems of linear equations.\\n\\nThe first systematic methods for solving linear systems used determinants and were first considered by Leibniz in 1693. In 1750, Gabriel Cramer used them for giving explicit solutions of linear systems, now called Cramer\\'s rule. Later, Gauss further described the method of elimination, which was initially listed as an advancement in geodesy.[5]\\n\\nIn 1844 Hermann Grassmann published his \"Theory of Extension\" which included foundational new topics of what is today called linear algebra. In 1848, James Joseph Sylvester introduced the term matrix, which is Latin for womb.\\n\\nLinear algebra grew with ideas noted in the complex plane. For instance, two numbers w and z in \\nC\\n{\\\\displaystyle \\\\mathbb {C} } have a difference w – z, and the line segments wz and 0(w − z) are of the same length and direction. The segments are equipollent. The four-dimensional system \\nH\\n{\\\\displaystyle \\\\mathbb {H} } of quaternions was discovered by W.R. Hamilton in 1843.[6] The term vector was introduced as v = xi + yj + zk representing a point in space. The quaternion difference p – q also produces a segment equipollent to pq. Other hypercomplex number systems also used the idea of a linear space with a basis.\\n\\nArthur Cayley introduced matrix multiplication and the inverse matrix in 1856, making possible the general linear group. The mechanism of group representation became available for describing complex and hypercomplex numbers. Crucially, Cayley used a single letter to denote a matrix, thus treating a matrix as an aggregate object. He also realized the connection between matrices and determinants and wrote \"There would be many things to say about this theory of matrices which should, it seems to me, precede the theory of determinants\".[5]\\n\\nBenjamin Peirce published his Linear Associative Algebra (1872), and his son Charles Sanders Peirce extended the work later.[7]\\n\\nThe telegraph required an explanatory system, and the 1873 publication by James Clerk Maxwell of A Treatise on Electricity and Magnetism instituted a field theory of forces and required differential geometry for expression. Linear algebra is flat differential geometry and serves in tangent spaces to manifolds. Electromagnetic symmetries of spacetime are expressed by the Lorentz transformations, and much of the history of linear algebra is the history of Lorentz transformations.\\n\\nThe first modern and more precise definition of a vector space was introduced by Peano in 1888;[5] by 1900, a theory of linear transformations of finite-dimensional vector spaces had emerged. Linear algebra took its modern form in the first half of the twentieth century when many ideas and methods of previous centuries were generalized as abstract algebra. The development of computers led to increased research in efficient algorithms for Gaussian elimination and matrix decompositions, and linear algebra became an essential tool for modeling and simulations.[5]',\n",
       " 'number': 5,\n",
       " 'subject': 'MACHINE LEARNING',\n",
       " 'tone': 'simple',\n",
       " 'response_json': '{\"1\": {\"mcq\": \"multiple choice question\", \"options\": {\"a\": \"choice here\", \"b\": \"choice here\", \"c\": \"choice here\", \"d\": \"choice here\"}, \"correct\": \"correct answer\"}, \"2\": {\"mcq\": \"multiple choice question\", \"options\": {\"a\": \"choice here\", \"b\": \"choice here\", \"c\": \"choice here\", \"d\": \"choice here\"}, \"correct\": \"correct answer\"}, \"3\": {\"mcq\": \"multiple choice question\", \"options\": {\"a\": \"choice here\", \"b\": \"choice here\", \"c\": \"choice here\", \"d\": \"choice here\"}, \"correct\": \"correct answer\"}}',\n",
       " 'quiz': '```json\\n{\\n  \"1\": {\\n    \"mcq\": \"The method for solving simultaneous linear equations known as Gaussian elimination was first documented in which ancient text?\",\\n    \"options\": {\\n      \"a\": \"Euclid\\'s Elements\",\\n      \"b\": \"Chapter Eight: Rectangular Arrays of The Nine Chapters on the Mathematical Art\",\\n      \"c\": \"Al-Khwarizmi\\'s The Compendious Book on Calculation by Completion and Balancing\",\\n      \"d\": \"The Rhind Mathematical Papyrus\"\\n    },\\n    \"correct\": \"b\"\\n  },\\n  \"2\": {\\n    \"mcq\": \"Who introduced the term \\'matrix\\'?\",\\n    \"options\": {\\n      \"a\": \"Arthur Cayley\",\\n      \"b\": \"Hermann Grassmann\",\\n      \"c\": \"James Joseph Sylvester\",\\n      \"d\": \"Benjamin Peirce\"\\n    },\\n    \"correct\": \"c\"\\n  },\\n  \"3\": {\\n    \"mcq\": \"Which mathematician is credited with introducing matrix multiplication and the inverse matrix?\",\\n    \"options\": {\\n      \"a\": \"Gauss\",\\n      \"b\": \"Arthur Cayley\",\\n      \"c\": \"Cramer\",\\n      \"d\": \"Descartes\"\\n    },\\n    \"correct\": \"b\"\\n  },\\n  \"4\": {\\n    \"mcq\": \"In what context was the term \\'vector\\' initially introduced?\",\\n    \"options\": {\\n      \"a\": \"To represent forces in electromagnetism\",\\n      \"b\": \"To describe complex numbers\",\\n      \"c\": \"To represent a point in space as v = xi + yj + zk\",\\n      \"d\": \"To define equipollent line segments\"\\n    },\\n    \"correct\": \"c\"\\n  },\\n  \"5\": {\\n    \"mcq\": \"What development significantly boosted research into efficient algorithms for Gaussian elimination and matrix decompositions?\",\\n    \"options\": {\\n      \"a\": \"The invention of determinants\",\\n      \"b\": \"The development of computers\",\\n      \"c\": \"The formulation of Cramer\\'s rule\",\\n      \"d\": \"The introduction of Cartesian geometry\"\\n    },\\n    \"correct\": \"b\"\\n  }\\n}\\n```',\n",
       " 'review': '```json\\n{\\n  \"1\": {\\n    \"mcq\": \"The method for solving simultaneous linear equations known as Gaussian elimination was first documented in which ancient text?\",\\n    \"options\": {\\n      \"a\": \"Euclid\\'s Elements\",\\n      \"b\": \"Chapter Eight: Rectangular Arrays of The Nine Chapters on the Mathematical Art\",\\n      \"c\": \"Al-Khwarizmi\\'s The Compendious Book on Calculation by Completion and Balancing\",\\n      \"d\": \"The Rhind Mathematical Papyrus\"\\n    },\\n    \"correct\": \"b\"\\n  },\\n  \"2\": {\\n    \"mcq\": \"Who introduced the term \\'matrix\\'?\",\\n    \"options\": {\\n      \"a\": \"Arthur Cayley\",\\n      \"b\": \"Hermann Grassmann\",\\n      \"c\": \"James Joseph Sylvester\",\\n      \"d\": \"Benjamin Peirce\"\\n    },\\n    \"correct\": \"c\"\\n  },\\n  \"3\": {\\n    \"mcq\": \"In what context was the method of elimination initially listed as an advancement?\",\\n    \"options\": {\\n      \"a\": \"Astronomy\",\\n      \"b\": \"Physics\",\\n      \"c\": \"Geodesy\",\\n      \"d\": \"Chemistry\"\\n    },\\n    \"correct\": \"c\"\\n  },\\n  \"4\": {\\n    \"mcq\": \"Who introduced matrix multiplication and the inverse matrix, enabling the general linear group?\",\\n    \"options\": {\\n      \"a\": \"W.R. Hamilton\",\\n      \"b\": \"Arthur Cayley\",\\n      \"c\": \"Benjamin Peirce\",\\n      \"d\": \"James Clerk Maxwell\"\\n    },\\n    \"correct\": \"b\"\\n  },\\n  \"5\": {\\n    \"mcq\": \"According to the text, what development significantly boosted research in efficient algorithms for Gaussian elimination and matrix decompositions?\",\\n    \"options\": {\\n      \"a\": \"The invention of the telegraph\",\\n      \"b\": \"The development of computers\",\\n      \"c\": \"The formulation of the theory of relativity\",\\n      \"d\": \"The discovery of quaternions\"\\n    },\\n    \"correct\": \"b\"\\n  }\\n}\\n```'}"
      ]
     },
     "execution_count": 79,
     "metadata": {},
     "output_type": "execute_result"
    }
   ],
   "source": [
    "response"
   ]
  },
  {
   "cell_type": "code",
   "execution_count": 90,
   "id": "b576646e",
   "metadata": {},
   "outputs": [],
   "source": [
    "quize=response.get(\"quiz\")"
   ]
  },
  {
   "cell_type": "code",
   "execution_count": null,
   "id": "6e26c3c1",
   "metadata": {},
   "outputs": [
    {
     "name": "stdout",
     "output_type": "stream",
     "text": [
      "{'1': {'mcq': 'The method for solving simultaneous linear equations known as Gaussian elimination was first documented in which ancient text?', 'options': {'a': \"Euclid's Elements\", 'b': 'Chapter Eight: Rectangular Arrays of The Nine Chapters on the Mathematical Art', 'c': \"Al-Khwarizmi's The Compendious Book on Calculation by Completion and Balancing\", 'd': 'The Rhind Mathematical Papyrus'}, 'correct': 'b'}, '2': {'mcq': \"Who introduced the term 'matrix'?\", 'options': {'a': 'Arthur Cayley', 'b': 'Hermann Grassmann', 'c': 'James Joseph Sylvester', 'd': 'Benjamin Peirce'}, 'correct': 'c'}, '3': {'mcq': 'Which mathematician is credited with introducing matrix multiplication and the inverse matrix?', 'options': {'a': 'Gauss', 'b': 'Arthur Cayley', 'c': 'Cramer', 'd': 'Descartes'}, 'correct': 'b'}, '4': {'mcq': \"In what context was the term 'vector' initially introduced?\", 'options': {'a': 'To represent forces in electromagnetism', 'b': 'To describe complex numbers', 'c': 'To represent a point in space as v = xi + yj + zk', 'd': 'To define equipollent line segments'}, 'correct': 'c'}, '5': {'mcq': 'What development significantly boosted research into efficient algorithms for Gaussian elimination and matrix decompositions?', 'options': {'a': 'The invention of determinants', 'b': 'The development of computers', 'c': \"The formulation of Cramer's rule\", 'd': 'The introduction of Cartesian geometry'}, 'correct': 'b'}}\n"
     ]
    }
   ],
   "source": [
    "import re\n",
    "\n",
    "def extract_json(text):\n",
    "    try:\n",
    "        return json.loads(text)\n",
    "    except:\n",
    "        try:\n",
    "            json_match = re.search(r'(\\{[\\s\\S]*\\})', text)\n",
    "            if json_match:\n",
    "                return json.loads(json_match.group(1))\n",
    "            return None\n",
    "        except:\n",
    "            print(\"Could not parse response as JSON\")\n",
    "            return None\n",
    "\n",
    "quiz_json = extract_json(quize)\n",
    "print(quiz_json)\n",
    "if not quiz_json:\n",
    "    print(\"Warning: Could not parse quiz as JSON. Creating manual structure.\")\n",
    "    quiz_json = {\"1\": {\"mcq\": \"Quiz could not be parsed\", \"options\": {\"a\": \"-\", \"b\": \"-\", \"c\": \"-\", \"d\": \"-\"}, \"correct\": \"-\"}}"
   ]
  },
  {
   "cell_type": "code",
   "execution_count": null,
   "id": "7ae35c0c",
   "metadata": {},
   "outputs": [
    {
     "name": "stdout",
     "output_type": "stream",
     "text": [
      "[{'Question': 'The method for solving simultaneous linear equations known as Gaussian elimination was first documented in which ancient text?', 'Option A': \"Euclid's Elements\", 'Option B': 'Chapter Eight: Rectangular Arrays of The Nine Chapters on the Mathematical Art', 'Option C': \"Al-Khwarizmi's The Compendious Book on Calculation by Completion and Balancing\", 'Option D': 'The Rhind Mathematical Papyrus', 'Correct Answer': 'b'}, {'Question': \"Who introduced the term 'matrix'?\", 'Option A': 'Arthur Cayley', 'Option B': 'Hermann Grassmann', 'Option C': 'James Joseph Sylvester', 'Option D': 'Benjamin Peirce', 'Correct Answer': 'c'}, {'Question': 'Which mathematician is credited with introducing matrix multiplication and the inverse matrix?', 'Option A': 'Gauss', 'Option B': 'Arthur Cayley', 'Option C': 'Cramer', 'Option D': 'Descartes', 'Correct Answer': 'b'}, {'Question': \"In what context was the term 'vector' initially introduced?\", 'Option A': 'To represent forces in electromagnetism', 'Option B': 'To describe complex numbers', 'Option C': 'To represent a point in space as v = xi + yj + zk', 'Option D': 'To define equipollent line segments', 'Correct Answer': 'c'}, {'Question': 'What development significantly boosted research into efficient algorithms for Gaussian elimination and matrix decompositions?', 'Option A': 'The invention of determinants', 'Option B': 'The development of computers', 'Option C': \"The formulation of Cramer's rule\", 'Option D': 'The introduction of Cartesian geometry', 'Correct Answer': 'b'}]\n"
     ]
    }
   ],
   "source": [
    "quiz_table_data = []\n",
    "for key, value in quiz_json.items():\n",
    "    mcq = value.get(\"mcq\")\n",
    "    options = value.get(\"options\")\n",
    "    correct = value.get(\"correct\")\n",
    "    \n",
    "    # Create a dictionary for the current row\n",
    "    row = {\n",
    "        \"Question\": mcq,\n",
    "        \"Option A\": options.get(\"a\"),\n",
    "        \"Option B\": options.get(\"b\"),\n",
    "        \"Option C\": options.get(\"c\"),\n",
    "        \"Option D\": options.get(\"d\"),\n",
    "        \"Correct Answer\": correct\n",
    "    }\n",
    "    \n",
    "    # Append the row to the list\n",
    "    quiz_table_data.append(row)\n",
    "\n",
    "print(quiz_table_data)"
   ]
  },
  {
   "cell_type": "code",
   "execution_count": 121,
   "id": "4248e820",
   "metadata": {},
   "outputs": [
    {
     "data": {
      "text/html": [
       "<style type=\"text/css\">\n",
       "#T_fa3ef th.col0 {\n",
       "  background-color: black;\n",
       "  font-weight: bold;\n",
       "  color: Green;\n",
       "}\n",
       "#T_fa3ef th {\n",
       "  background-color: black;\n",
       "  font-weight: bold;\n",
       "  color: blue;\n",
       "  text-align: center;\n",
       "}\n",
       "#T_fa3ef_row0_col0, #T_fa3ef_row0_col1, #T_fa3ef_row0_col2, #T_fa3ef_row0_col3, #T_fa3ef_row0_col4, #T_fa3ef_row0_col5, #T_fa3ef_row1_col0, #T_fa3ef_row1_col1, #T_fa3ef_row1_col2, #T_fa3ef_row1_col3, #T_fa3ef_row1_col4, #T_fa3ef_row1_col5, #T_fa3ef_row2_col0, #T_fa3ef_row2_col1, #T_fa3ef_row2_col2, #T_fa3ef_row2_col3, #T_fa3ef_row2_col4, #T_fa3ef_row2_col5, #T_fa3ef_row3_col0, #T_fa3ef_row3_col1, #T_fa3ef_row3_col2, #T_fa3ef_row3_col3, #T_fa3ef_row3_col4, #T_fa3ef_row3_col5, #T_fa3ef_row4_col0, #T_fa3ef_row4_col1, #T_fa3ef_row4_col2, #T_fa3ef_row4_col3, #T_fa3ef_row4_col4, #T_fa3ef_row4_col5 {\n",
       "  text-align: Left;\n",
       "  border: 1px solid black;\n",
       "  padding: 5px;\n",
       "}\n",
       "</style>\n",
       "<table id=\"T_fa3ef\">\n",
       "  <thead>\n",
       "    <tr>\n",
       "      <th class=\"blank level0\" >&nbsp;</th>\n",
       "      <th id=\"T_fa3ef_level0_col0\" class=\"col_heading level0 col0\" >Question</th>\n",
       "      <th id=\"T_fa3ef_level0_col1\" class=\"col_heading level0 col1\" >Option A</th>\n",
       "      <th id=\"T_fa3ef_level0_col2\" class=\"col_heading level0 col2\" >Option B</th>\n",
       "      <th id=\"T_fa3ef_level0_col3\" class=\"col_heading level0 col3\" >Option C</th>\n",
       "      <th id=\"T_fa3ef_level0_col4\" class=\"col_heading level0 col4\" >Option D</th>\n",
       "      <th id=\"T_fa3ef_level0_col5\" class=\"col_heading level0 col5\" >Correct Answer</th>\n",
       "    </tr>\n",
       "  </thead>\n",
       "  <tbody>\n",
       "    <tr>\n",
       "      <th id=\"T_fa3ef_level0_row0\" class=\"row_heading level0 row0\" >1</th>\n",
       "      <td id=\"T_fa3ef_row0_col0\" class=\"data row0 col0\" >The method for solving simultaneous linear equations known as Gaussian elimination was first documented in which ancient text?</td>\n",
       "      <td id=\"T_fa3ef_row0_col1\" class=\"data row0 col1\" >Euclid's Elements</td>\n",
       "      <td id=\"T_fa3ef_row0_col2\" class=\"data row0 col2\" >Chapter Eight: Rectangular Arrays of The Nine Chapters on the Mathematical Art</td>\n",
       "      <td id=\"T_fa3ef_row0_col3\" class=\"data row0 col3\" >Al-Khwarizmi's The Compendious Book on Calculation by Completion and Balancing</td>\n",
       "      <td id=\"T_fa3ef_row0_col4\" class=\"data row0 col4\" >The Rhind Mathematical Papyrus</td>\n",
       "      <td id=\"T_fa3ef_row0_col5\" class=\"data row0 col5\" >b</td>\n",
       "    </tr>\n",
       "    <tr>\n",
       "      <th id=\"T_fa3ef_level0_row1\" class=\"row_heading level0 row1\" >2</th>\n",
       "      <td id=\"T_fa3ef_row1_col0\" class=\"data row1 col0\" >Who introduced the term 'matrix'?</td>\n",
       "      <td id=\"T_fa3ef_row1_col1\" class=\"data row1 col1\" >Arthur Cayley</td>\n",
       "      <td id=\"T_fa3ef_row1_col2\" class=\"data row1 col2\" >Hermann Grassmann</td>\n",
       "      <td id=\"T_fa3ef_row1_col3\" class=\"data row1 col3\" >James Joseph Sylvester</td>\n",
       "      <td id=\"T_fa3ef_row1_col4\" class=\"data row1 col4\" >Benjamin Peirce</td>\n",
       "      <td id=\"T_fa3ef_row1_col5\" class=\"data row1 col5\" >c</td>\n",
       "    </tr>\n",
       "    <tr>\n",
       "      <th id=\"T_fa3ef_level0_row2\" class=\"row_heading level0 row2\" >3</th>\n",
       "      <td id=\"T_fa3ef_row2_col0\" class=\"data row2 col0\" >Which mathematician is credited with introducing matrix multiplication and the inverse matrix?</td>\n",
       "      <td id=\"T_fa3ef_row2_col1\" class=\"data row2 col1\" >Gauss</td>\n",
       "      <td id=\"T_fa3ef_row2_col2\" class=\"data row2 col2\" >Arthur Cayley</td>\n",
       "      <td id=\"T_fa3ef_row2_col3\" class=\"data row2 col3\" >Cramer</td>\n",
       "      <td id=\"T_fa3ef_row2_col4\" class=\"data row2 col4\" >Descartes</td>\n",
       "      <td id=\"T_fa3ef_row2_col5\" class=\"data row2 col5\" >b</td>\n",
       "    </tr>\n",
       "    <tr>\n",
       "      <th id=\"T_fa3ef_level0_row3\" class=\"row_heading level0 row3\" >4</th>\n",
       "      <td id=\"T_fa3ef_row3_col0\" class=\"data row3 col0\" >In what context was the term 'vector' initially introduced?</td>\n",
       "      <td id=\"T_fa3ef_row3_col1\" class=\"data row3 col1\" >To represent forces in electromagnetism</td>\n",
       "      <td id=\"T_fa3ef_row3_col2\" class=\"data row3 col2\" >To describe complex numbers</td>\n",
       "      <td id=\"T_fa3ef_row3_col3\" class=\"data row3 col3\" >To represent a point in space as v = xi + yj + zk</td>\n",
       "      <td id=\"T_fa3ef_row3_col4\" class=\"data row3 col4\" >To define equipollent line segments</td>\n",
       "      <td id=\"T_fa3ef_row3_col5\" class=\"data row3 col5\" >c</td>\n",
       "    </tr>\n",
       "    <tr>\n",
       "      <th id=\"T_fa3ef_level0_row4\" class=\"row_heading level0 row4\" >5</th>\n",
       "      <td id=\"T_fa3ef_row4_col0\" class=\"data row4 col0\" >What development significantly boosted research into efficient algorithms for Gaussian elimination and matrix decompositions?</td>\n",
       "      <td id=\"T_fa3ef_row4_col1\" class=\"data row4 col1\" >The invention of determinants</td>\n",
       "      <td id=\"T_fa3ef_row4_col2\" class=\"data row4 col2\" >The development of computers</td>\n",
       "      <td id=\"T_fa3ef_row4_col3\" class=\"data row4 col3\" >The formulation of Cramer's rule</td>\n",
       "      <td id=\"T_fa3ef_row4_col4\" class=\"data row4 col4\" >The introduction of Cartesian geometry</td>\n",
       "      <td id=\"T_fa3ef_row4_col5\" class=\"data row4 col5\" >b</td>\n",
       "    </tr>\n",
       "  </tbody>\n",
       "</table>\n"
      ],
      "text/plain": [
       "<pandas.io.formats.style.Styler at 0x1d06d765ca0>"
      ]
     },
     "metadata": {},
     "output_type": "display_data"
    }
   ],
   "source": [
    "quiz_df = pd.DataFrame(quiz_table_data)\n",
    "\n",
    "quiz_df.columns = [\"Question\", \"Option A\", \"Option B\", \"Option C\", \"Option D\", \"Correct Answer\"]\n",
    "quiz_df.index = range(1, len(quiz_df) + 1)\n",
    "\n",
    "styled_df = quiz_df.style.set_properties(**{\n",
    "    'text-align': 'Left',\n",
    "    'border': '1px solid black',\n",
    "    'padding': '5px'\n",
    "}).set_table_styles([{\n",
    "    'selector': 'th.col0',\n",
    "     \n",
    "    'props': [('background-color', 'black'), ('font-weight', 'bold') ,('color', 'Green')]\n",
    "}, {\n",
    "     'selector': 'th',\n",
    "        'props': [('background-color', 'black'), ('font-weight', 'bold') ,('color', 'blue'),('text-align', 'center')]\n",
    "}])\n",
    "\n",
    "display(styled_df)"
   ]
  },
  {
   "cell_type": "code",
   "execution_count": 122,
   "id": "24710291",
   "metadata": {},
   "outputs": [],
   "source": [
    "quiz_df.to_csv(\"quiz.csv\")"
   ]
  },
  {
   "cell_type": "code",
   "execution_count": null,
   "id": "50ee8b95",
   "metadata": {},
   "outputs": [],
   "source": []
  }
 ],
 "metadata": {
  "kernelspec": {
   "display_name": "Python 3",
   "language": "python",
   "name": "python3"
  },
  "language_info": {
   "codemirror_mode": {
    "name": "ipython",
    "version": 3
   },
   "file_extension": ".py",
   "mimetype": "text/x-python",
   "name": "python",
   "nbconvert_exporter": "python",
   "pygments_lexer": "ipython3",
   "version": "3.12.9"
  }
 },
 "nbformat": 4,
 "nbformat_minor": 5
}
